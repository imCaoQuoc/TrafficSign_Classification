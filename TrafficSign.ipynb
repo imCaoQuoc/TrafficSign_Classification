{
  "cells": [
    {
      "cell_type": "markdown",
      "metadata": {
        "id": "HEEpkIYZb03C"
      },
      "source": [
        "# **PREPARATION**"
      ]
    },
    {
      "cell_type": "code",
      "execution_count": null,
      "metadata": {
        "id": "xU3-sfdp8zE7"
      },
      "outputs": [],
      "source": [
        "# Fundamental classes\n",
        "import numpy as np \n",
        "import pandas as pd \n",
        "import tensorflow as tf\n",
        "import os\n",
        "from tqdm import tqdm\n",
        "\n",
        "# Image related\n",
        "import cv2\n",
        "from PIL import Image\n",
        "\n",
        "#Visualization and evaluation\n",
        "from sklearn import metrics \n",
        "from sklearn.metrics import f1_score, accuracy_score,confusion_matrix,classification_report\n",
        "import matplotlib.pyplot as plt\n",
        "import seaborn as sns\n",
        "%matplotlib inline\n",
        "\n",
        "# Modeling\n",
        "from sklearn.model_selection import train_test_split\n",
        "from tensorflow.keras.utils import to_categorical\n",
        "from tensorflow.keras.models import Sequential, load_model\n",
        "from tensorflow.keras.layers import Conv2D, MaxPool2D, Dense, Flatten, Dropout"
      ]
    },
    {
      "cell_type": "code",
      "execution_count": null,
      "metadata": {
        "id": "xiGbSm80jfgS"
      },
      "outputs": [],
      "source": [
        "path = \"/content/drive/MyDrive/TrafficSign/Train/\""
      ]
    },
    {
      "cell_type": "code",
      "execution_count": null,
      "metadata": {
        "id": "t_f8C7hKLXif"
      },
      "outputs": [],
      "source": [
        "class Model(tensorflow.keras.models.Sequential):\n",
        "  def __init__(self):\n",
        "    super().__init__()\n",
        "    self.model = tf.keras.models.Sequential()\n",
        "\n",
        "  def build(self):\n",
        "    self.model.add(Conv2D(filters=32, kernel_size=(5,5), activation='relu', input_shape=X_train.shape[1:]))\n",
        "    self.model.add(Conv2D(filters=32, kernel_size=(5,5), activation='relu'))\n",
        "    self.model.add(MaxPool2D(pool_size=(2, 2)))\n",
        "    self.model.add(Dropout(rate=0.25))\n",
        "    self.model.add(Conv2D(filters=64, kernel_size=(3, 3), activation='relu'))\n",
        "    self.model.add(Conv2D(filters=64, kernel_size=(3, 3), activation='relu'))\n",
        "    self.model.add(MaxPool2D(pool_size=(2, 2)))\n",
        "    self.model.add(Dropout(rate=0.25))\n",
        "    self.model.add(Flatten())\n",
        "    self.model.add(Dense(256, activation='relu'))\n",
        "    self.model.add(Dropout(rate=0.5))\n",
        "    self.model.add(Dense(43, activation='softmax'))\n",
        "    self.model.compile(loss='categorical_crossentropy', optimizer='adam', metrics=['accuracy'])\n",
        "\n",
        "  def train(self, x_train, y_train, x_val, y_val, epochs = 100, batch_size = 32):\n",
        "    self.history = self.model.fit(x_train, y_train, epochs= epochs, batch_size= batch_size, validation_data= (x_val, y_val))\n",
        "\n",
        "  def evaluate(self, x_test, y_test):\n",
        "    test_loss, test_acc = self.model.evaluate(x_test, y_test)\n",
        "    print(\"Total loss: \", test_loss)\n",
        "    print(\"Model accuracy: \", test_acc)\n",
        "\n",
        "  def predict(self, x_test):\n",
        "    return self.model.predict(x_test)\n",
        "\n",
        "  def summary(self):\n",
        "    return self.model.summary()\n",
        "\n",
        "  def save(self, name= \"model\"):\n",
        "    return self.model.save(f\"{name}.h5\")"
      ]
    },
    {
      "cell_type": "code",
      "execution_count": null,
      "metadata": {
        "id": "gt4bBWkyhr1k"
      },
      "outputs": [],
      "source": [
        "def processing_data(path):\n",
        "  data = []\n",
        "  labels = []\n",
        "  folders = os.listdir(path)\n",
        "  for folder in tqdm(folders):\n",
        "    folder_path = os.path.join(path, folder)\n",
        "    files = os.listdir(folder_path)\n",
        "    for file in files:\n",
        "      img_path = os.path.join(folder_path, file)\n",
        "      image = Image.open(img_path)\n",
        "      image = image.resize((30,30))\n",
        "      img = np.array(image)\n",
        "      data.append(img)\n",
        "      labels.append(folder)\n",
        "  data = np.array(data)\n",
        "  labels = np.array(labels)\n",
        "  return data, labels"
      ]
    },
    {
      "cell_type": "markdown",
      "metadata": {
        "id": "cAMF8QoNcBFl"
      },
      "source": [
        "# **LOADING DATA**"
      ]
    },
    {
      "cell_type": "code",
      "execution_count": null,
      "metadata": {
        "colab": {
          "base_uri": "https://localhost:8080/"
        },
        "id": "YhV--SP7xhma",
        "outputId": "aedf6b8e-bc7d-41de-c310-9303f75a678c"
      },
      "outputs": [
        {
          "name": "stderr",
          "output_type": "stream",
          "text": [
            "100%|██████████| 43/43 [07:57<00:00, 11.11s/it]\n"
          ]
        }
      ],
      "source": [
        "data, label = processing_data(path)"
      ]
    },
    {
      "cell_type": "code",
      "execution_count": null,
      "metadata": {
        "colab": {
          "base_uri": "https://localhost:8080/"
        },
        "id": "ps-2iX9vCZRF",
        "outputId": "416b5c50-4fc9-4b27-94c3-2029dc15d630"
      },
      "outputs": [
        {
          "name": "stdout",
          "output_type": "stream",
          "text": [
            "(39239, 30, 30, 3)\n",
            "(39239,)\n"
          ]
        }
      ],
      "source": [
        "print(data.shape)\n",
        "print(label.shape)"
      ]
    },
    {
      "cell_type": "code",
      "execution_count": null,
      "metadata": {
        "id": "93sZjUh_A6oV"
      },
      "outputs": [],
      "source": [
        "X_train, X_valid, y_train, y_valid = train_test_split(data, label, test_size= 0.2)"
      ]
    },
    {
      "cell_type": "code",
      "execution_count": null,
      "metadata": {
        "id": "Cmsdhb1cE9Ko"
      },
      "outputs": [],
      "source": [
        "y_train = to_categorical(y_train, 43)\n",
        "y_valid = to_categorical(y_valid, 43)"
      ]
    },
    {
      "cell_type": "markdown",
      "metadata": {
        "id": "LMibpSWlcGsd"
      },
      "source": [
        "# **CREATE AND TRAINING MODEL**"
      ]
    },
    {
      "cell_type": "code",
      "execution_count": null,
      "metadata": {
        "id": "BIYvk8u8tWGG"
      },
      "outputs": [],
      "source": [
        "model = Model()"
      ]
    },
    {
      "cell_type": "code",
      "execution_count": null,
      "metadata": {
        "id": "uGJOPeEmtct-"
      },
      "outputs": [],
      "source": [
        "model.build()"
      ]
    },
    {
      "cell_type": "code",
      "execution_count": null,
      "metadata": {
        "colab": {
          "base_uri": "https://localhost:8080/"
        },
        "id": "4DsxNCl-teqv",
        "outputId": "5c95f18d-c367-4011-8f47-faef77fdc850"
      },
      "outputs": [
        {
          "name": "stdout",
          "output_type": "stream",
          "text": [
            "Model: \"sequential\"\n",
            "_________________________________________________________________\n",
            " Layer (type)                Output Shape              Param #   \n",
            "=================================================================\n",
            " conv2d (Conv2D)             (None, 26, 26, 32)        2432      \n",
            "                                                                 \n",
            " conv2d_1 (Conv2D)           (None, 22, 22, 32)        25632     \n",
            "                                                                 \n",
            " max_pooling2d (MaxPooling2D  (None, 11, 11, 32)       0         \n",
            " )                                                               \n",
            "                                                                 \n",
            " dropout (Dropout)           (None, 11, 11, 32)        0         \n",
            "                                                                 \n",
            " conv2d_2 (Conv2D)           (None, 9, 9, 64)          18496     \n",
            "                                                                 \n",
            " conv2d_3 (Conv2D)           (None, 7, 7, 64)          36928     \n",
            "                                                                 \n",
            " max_pooling2d_1 (MaxPooling  (None, 3, 3, 64)         0         \n",
            " 2D)                                                             \n",
            "                                                                 \n",
            " dropout_1 (Dropout)         (None, 3, 3, 64)          0         \n",
            "                                                                 \n",
            " flatten (Flatten)           (None, 576)               0         \n",
            "                                                                 \n",
            " dense (Dense)               (None, 256)               147712    \n",
            "                                                                 \n",
            " dropout_2 (Dropout)         (None, 256)               0         \n",
            "                                                                 \n",
            " dense_1 (Dense)             (None, 43)                11051     \n",
            "                                                                 \n",
            "=================================================================\n",
            "Total params: 242,251\n",
            "Trainable params: 242,251\n",
            "Non-trainable params: 0\n",
            "_________________________________________________________________\n"
          ]
        }
      ],
      "source": [
        "model.summary()"
      ]
    },
    {
      "cell_type": "code",
      "execution_count": null,
      "metadata": {
        "colab": {
          "base_uri": "https://localhost:8080/"
        },
        "id": "DXbSbBjEtjFf",
        "outputId": "0ce214c7-5416-4733-b763-7367cfad9b25"
      },
      "outputs": [
        {
          "name": "stdout",
          "output_type": "stream",
          "text": [
            "Epoch 1/100\n",
            "981/981 [==============================] - 110s 111ms/step - loss: 2.0545 - accuracy: 0.4590 - val_loss: 0.8189 - val_accuracy: 0.8071\n",
            "Epoch 2/100\n",
            "981/981 [==============================] - 105s 107ms/step - loss: 0.8401 - accuracy: 0.7459 - val_loss: 0.2867 - val_accuracy: 0.9151\n",
            "Epoch 3/100\n",
            "981/981 [==============================] - 105s 107ms/step - loss: 0.5290 - accuracy: 0.8395 - val_loss: 0.1719 - val_accuracy: 0.9512\n",
            "Epoch 4/100\n",
            "981/981 [==============================] - 105s 107ms/step - loss: 0.4170 - accuracy: 0.8720 - val_loss: 0.1391 - val_accuracy: 0.9601\n",
            "Epoch 5/100\n",
            "981/981 [==============================] - 106s 108ms/step - loss: 0.3684 - accuracy: 0.8894 - val_loss: 0.1254 - val_accuracy: 0.9648\n",
            "Epoch 6/100\n",
            "981/981 [==============================] - 106s 108ms/step - loss: 0.3338 - accuracy: 0.8992 - val_loss: 0.1302 - val_accuracy: 0.9588\n",
            "Epoch 7/100\n",
            "981/981 [==============================] - 105s 107ms/step - loss: 0.2927 - accuracy: 0.9110 - val_loss: 0.0948 - val_accuracy: 0.9721\n",
            "Epoch 8/100\n",
            "981/981 [==============================] - 106s 108ms/step - loss: 0.2764 - accuracy: 0.9185 - val_loss: 0.0906 - val_accuracy: 0.9755\n",
            "Epoch 9/100\n",
            "981/981 [==============================] - 106s 108ms/step - loss: 0.2629 - accuracy: 0.9219 - val_loss: 0.0696 - val_accuracy: 0.9777\n",
            "Epoch 10/100\n",
            "981/981 [==============================] - 106s 108ms/step - loss: 0.2423 - accuracy: 0.9289 - val_loss: 0.1010 - val_accuracy: 0.9690\n",
            "Epoch 11/100\n",
            "981/981 [==============================] - 106s 108ms/step - loss: 0.2412 - accuracy: 0.9311 - val_loss: 0.0523 - val_accuracy: 0.9836\n",
            "Epoch 12/100\n",
            "981/981 [==============================] - 106s 108ms/step - loss: 0.2482 - accuracy: 0.9303 - val_loss: 0.0720 - val_accuracy: 0.9788\n",
            "Epoch 13/100\n",
            "981/981 [==============================] - 106s 108ms/step - loss: 0.2397 - accuracy: 0.9322 - val_loss: 0.0573 - val_accuracy: 0.9836\n",
            "Epoch 14/100\n",
            "981/981 [==============================] - 106s 108ms/step - loss: 0.2298 - accuracy: 0.9347 - val_loss: 0.0893 - val_accuracy: 0.9744\n",
            "Epoch 15/100\n",
            "981/981 [==============================] - 106s 108ms/step - loss: 0.2263 - accuracy: 0.9376 - val_loss: 0.0463 - val_accuracy: 0.9871\n",
            "Epoch 16/100\n",
            "981/981 [==============================] - 106s 108ms/step - loss: 0.2741 - accuracy: 0.9261 - val_loss: 0.0550 - val_accuracy: 0.9831\n",
            "Epoch 17/100\n",
            "981/981 [==============================] - 106s 108ms/step - loss: 0.2263 - accuracy: 0.9368 - val_loss: 0.0663 - val_accuracy: 0.9800\n",
            "Epoch 18/100\n",
            "981/981 [==============================] - 106s 108ms/step - loss: 0.2106 - accuracy: 0.9434 - val_loss: 0.0590 - val_accuracy: 0.9827\n",
            "Epoch 19/100\n",
            "981/981 [==============================] - 106s 108ms/step - loss: 0.2358 - accuracy: 0.9354 - val_loss: 0.0693 - val_accuracy: 0.9787\n",
            "Epoch 20/100\n",
            "981/981 [==============================] - 106s 108ms/step - loss: 0.2266 - accuracy: 0.9406 - val_loss: 0.0500 - val_accuracy: 0.9848\n",
            "Epoch 21/100\n",
            "981/981 [==============================] - 106s 108ms/step - loss: 0.2006 - accuracy: 0.9463 - val_loss: 0.0532 - val_accuracy: 0.9843\n",
            "Epoch 22/100\n",
            "981/981 [==============================] - 106s 108ms/step - loss: 0.2175 - accuracy: 0.9419 - val_loss: 0.0407 - val_accuracy: 0.9894\n",
            "Epoch 23/100\n",
            "981/981 [==============================] - 106s 108ms/step - loss: 0.2317 - accuracy: 0.9405 - val_loss: 0.0511 - val_accuracy: 0.9848\n",
            "Epoch 24/100\n",
            "981/981 [==============================] - 106s 108ms/step - loss: 0.2113 - accuracy: 0.9446 - val_loss: 0.0513 - val_accuracy: 0.9843\n",
            "Epoch 25/100\n",
            "981/981 [==============================] - 106s 108ms/step - loss: 0.2079 - accuracy: 0.9449 - val_loss: 0.0583 - val_accuracy: 0.9847\n",
            "Epoch 26/100\n",
            "981/981 [==============================] - 106s 108ms/step - loss: 0.2452 - accuracy: 0.9366 - val_loss: 0.0567 - val_accuracy: 0.9852\n",
            "Epoch 27/100\n",
            "981/981 [==============================] - 106s 108ms/step - loss: 0.2281 - accuracy: 0.9418 - val_loss: 0.0643 - val_accuracy: 0.9819\n",
            "Epoch 28/100\n",
            "981/981 [==============================] - 106s 108ms/step - loss: 0.2078 - accuracy: 0.9458 - val_loss: 0.0338 - val_accuracy: 0.9904\n",
            "Epoch 29/100\n",
            "981/981 [==============================] - 106s 108ms/step - loss: 0.2179 - accuracy: 0.9456 - val_loss: 0.0421 - val_accuracy: 0.9887\n",
            "Epoch 30/100\n",
            "981/981 [==============================] - 106s 108ms/step - loss: 0.2542 - accuracy: 0.9368 - val_loss: 0.0533 - val_accuracy: 0.9846\n",
            "Epoch 31/100\n",
            "981/981 [==============================] - 106s 108ms/step - loss: 0.2071 - accuracy: 0.9463 - val_loss: 0.0429 - val_accuracy: 0.9898\n",
            "Epoch 32/100\n",
            "981/981 [==============================] - 106s 108ms/step - loss: 0.2306 - accuracy: 0.9450 - val_loss: 0.0968 - val_accuracy: 0.9713\n",
            "Epoch 33/100\n",
            "981/981 [==============================] - 106s 108ms/step - loss: 0.1979 - accuracy: 0.9475 - val_loss: 0.0520 - val_accuracy: 0.9867\n",
            "Epoch 34/100\n",
            "981/981 [==============================] - 106s 108ms/step - loss: 0.2209 - accuracy: 0.9440 - val_loss: 0.0446 - val_accuracy: 0.9883\n",
            "Epoch 35/100\n",
            "981/981 [==============================] - 107s 109ms/step - loss: 0.2195 - accuracy: 0.9432 - val_loss: 0.0346 - val_accuracy: 0.9903\n",
            "Epoch 36/100\n",
            "981/981 [==============================] - 106s 108ms/step - loss: 0.2510 - accuracy: 0.9393 - val_loss: 0.0592 - val_accuracy: 0.9843\n",
            "Epoch 37/100\n",
            "981/981 [==============================] - 106s 108ms/step - loss: 0.2308 - accuracy: 0.9438 - val_loss: 0.0742 - val_accuracy: 0.9778\n",
            "Epoch 38/100\n",
            "981/981 [==============================] - 106s 108ms/step - loss: 0.2233 - accuracy: 0.9441 - val_loss: 0.0586 - val_accuracy: 0.9838\n",
            "Epoch 39/100\n",
            "981/981 [==============================] - 106s 108ms/step - loss: 0.2095 - accuracy: 0.9488 - val_loss: 0.0611 - val_accuracy: 0.9834\n",
            "Epoch 40/100\n",
            "981/981 [==============================] - 106s 108ms/step - loss: 0.2196 - accuracy: 0.9438 - val_loss: 0.0396 - val_accuracy: 0.9888\n",
            "Epoch 41/100\n",
            "981/981 [==============================] - 107s 109ms/step - loss: 0.2568 - accuracy: 0.9389 - val_loss: 0.0578 - val_accuracy: 0.9848\n",
            "Epoch 42/100\n",
            "981/981 [==============================] - 107s 109ms/step - loss: 0.2249 - accuracy: 0.9442 - val_loss: 0.0491 - val_accuracy: 0.9879\n",
            "Epoch 43/100\n",
            "981/981 [==============================] - 107s 109ms/step - loss: 0.2440 - accuracy: 0.9393 - val_loss: 0.0492 - val_accuracy: 0.9884\n",
            "Epoch 44/100\n",
            "981/981 [==============================] - 107s 109ms/step - loss: 0.2073 - accuracy: 0.9496 - val_loss: 0.0614 - val_accuracy: 0.9848\n",
            "Epoch 45/100\n",
            "981/981 [==============================] - 106s 108ms/step - loss: 0.2513 - accuracy: 0.9420 - val_loss: 0.0594 - val_accuracy: 0.9837\n",
            "Epoch 46/100\n",
            "981/981 [==============================] - 107s 109ms/step - loss: 0.2478 - accuracy: 0.9419 - val_loss: 0.0489 - val_accuracy: 0.9873\n",
            "Epoch 47/100\n",
            "981/981 [==============================] - 107s 109ms/step - loss: 0.2207 - accuracy: 0.9479 - val_loss: 0.0332 - val_accuracy: 0.9906\n",
            "Epoch 48/100\n",
            "981/981 [==============================] - 107s 109ms/step - loss: 0.2376 - accuracy: 0.9443 - val_loss: 0.0346 - val_accuracy: 0.9922\n",
            "Epoch 49/100\n",
            "981/981 [==============================] - 107s 109ms/step - loss: 0.2034 - accuracy: 0.9503 - val_loss: 0.0331 - val_accuracy: 0.9907\n",
            "Epoch 50/100\n",
            "981/981 [==============================] - 107s 109ms/step - loss: 0.2183 - accuracy: 0.9466 - val_loss: 0.0399 - val_accuracy: 0.9899\n",
            "Epoch 51/100\n",
            "981/981 [==============================] - 107s 109ms/step - loss: 0.2330 - accuracy: 0.9463 - val_loss: 0.0389 - val_accuracy: 0.9906\n",
            "Epoch 52/100\n",
            "981/981 [==============================] - 106s 109ms/step - loss: 0.2248 - accuracy: 0.9463 - val_loss: 0.0335 - val_accuracy: 0.9911\n",
            "Epoch 53/100\n",
            "981/981 [==============================] - 112s 114ms/step - loss: 0.2276 - accuracy: 0.9475 - val_loss: 0.0409 - val_accuracy: 0.9881\n",
            "Epoch 54/100\n",
            "981/981 [==============================] - 106s 108ms/step - loss: 0.2605 - accuracy: 0.9412 - val_loss: 0.0392 - val_accuracy: 0.9903\n",
            "Epoch 55/100\n",
            "981/981 [==============================] - 106s 108ms/step - loss: 0.2020 - accuracy: 0.9526 - val_loss: 0.0306 - val_accuracy: 0.9917\n",
            "Epoch 56/100\n",
            "981/981 [==============================] - 106s 108ms/step - loss: 0.2402 - accuracy: 0.9479 - val_loss: 0.0420 - val_accuracy: 0.9889\n",
            "Epoch 57/100\n",
            "981/981 [==============================] - 106s 108ms/step - loss: 0.2440 - accuracy: 0.9434 - val_loss: 0.0382 - val_accuracy: 0.9903\n",
            "Epoch 58/100\n",
            "981/981 [==============================] - 106s 108ms/step - loss: 0.2231 - accuracy: 0.9484 - val_loss: 0.0349 - val_accuracy: 0.9911\n",
            "Epoch 59/100\n",
            "981/981 [==============================] - 106s 108ms/step - loss: 0.2399 - accuracy: 0.9488 - val_loss: 0.0714 - val_accuracy: 0.9808\n",
            "Epoch 60/100\n",
            "981/981 [==============================] - 106s 108ms/step - loss: 0.2622 - accuracy: 0.9428 - val_loss: 0.0427 - val_accuracy: 0.9897\n",
            "Epoch 61/100\n",
            "981/981 [==============================] - 106s 108ms/step - loss: 0.2185 - accuracy: 0.9498 - val_loss: 0.0300 - val_accuracy: 0.9915\n",
            "Epoch 62/100\n",
            "981/981 [==============================] - 106s 108ms/step - loss: 0.2424 - accuracy: 0.9445 - val_loss: 0.0596 - val_accuracy: 0.9834\n",
            "Epoch 63/100\n",
            "981/981 [==============================] - 106s 108ms/step - loss: 0.2656 - accuracy: 0.9419 - val_loss: 0.0692 - val_accuracy: 0.9833\n",
            "Epoch 64/100\n",
            "981/981 [==============================] - 111s 113ms/step - loss: 0.2711 - accuracy: 0.9409 - val_loss: 0.0929 - val_accuracy: 0.9773\n",
            "Epoch 65/100\n",
            "981/981 [==============================] - 106s 108ms/step - loss: 0.2453 - accuracy: 0.9445 - val_loss: 0.0338 - val_accuracy: 0.9922\n",
            "Epoch 66/100\n",
            "981/981 [==============================] - 106s 108ms/step - loss: 0.2446 - accuracy: 0.9474 - val_loss: 0.0714 - val_accuracy: 0.9827\n",
            "Epoch 67/100\n",
            "981/981 [==============================] - 106s 108ms/step - loss: 0.2314 - accuracy: 0.9479 - val_loss: 0.0466 - val_accuracy: 0.9874\n",
            "Epoch 68/100\n",
            "981/981 [==============================] - 106s 108ms/step - loss: 0.2575 - accuracy: 0.9428 - val_loss: 0.0384 - val_accuracy: 0.9904\n",
            "Epoch 69/100\n",
            "981/981 [==============================] - 107s 109ms/step - loss: 0.2664 - accuracy: 0.9430 - val_loss: 0.0310 - val_accuracy: 0.9920\n",
            "Epoch 70/100\n",
            "981/981 [==============================] - 106s 108ms/step - loss: 0.3049 - accuracy: 0.9345 - val_loss: 0.0408 - val_accuracy: 0.9906\n",
            "Epoch 71/100\n",
            "981/981 [==============================] - 106s 108ms/step - loss: 0.2951 - accuracy: 0.9361 - val_loss: 0.0323 - val_accuracy: 0.9915\n",
            "Epoch 72/100\n",
            "981/981 [==============================] - 106s 108ms/step - loss: 0.2087 - accuracy: 0.9543 - val_loss: 0.0557 - val_accuracy: 0.9841\n",
            "Epoch 73/100\n",
            "981/981 [==============================] - 107s 109ms/step - loss: 0.2595 - accuracy: 0.9419 - val_loss: 0.0995 - val_accuracy: 0.9764\n",
            "Epoch 74/100\n",
            "981/981 [==============================] - 107s 109ms/step - loss: 0.2761 - accuracy: 0.9369 - val_loss: 0.0633 - val_accuracy: 0.9836\n",
            "Epoch 75/100\n",
            "981/981 [==============================] - 111s 113ms/step - loss: 0.2699 - accuracy: 0.9423 - val_loss: 0.0490 - val_accuracy: 0.9879\n",
            "Epoch 76/100\n",
            "981/981 [==============================] - 107s 109ms/step - loss: 0.2652 - accuracy: 0.9460 - val_loss: 0.0480 - val_accuracy: 0.9876\n",
            "Epoch 77/100\n",
            "981/981 [==============================] - 106s 108ms/step - loss: 0.2955 - accuracy: 0.9378 - val_loss: 0.0799 - val_accuracy: 0.9831\n",
            "Epoch 78/100\n",
            "981/981 [==============================] - 106s 108ms/step - loss: 0.2660 - accuracy: 0.9441 - val_loss: 0.0367 - val_accuracy: 0.9915\n",
            "Epoch 79/100\n",
            "981/981 [==============================] - 107s 109ms/step - loss: 0.2502 - accuracy: 0.9470 - val_loss: 0.0395 - val_accuracy: 0.9908\n",
            "Epoch 80/100\n",
            "981/981 [==============================] - 106s 108ms/step - loss: 0.2839 - accuracy: 0.9378 - val_loss: 0.0510 - val_accuracy: 0.9878\n",
            "Epoch 81/100\n",
            "981/981 [==============================] - 106s 108ms/step - loss: 0.2596 - accuracy: 0.9435 - val_loss: 0.0464 - val_accuracy: 0.9896\n",
            "Epoch 82/100\n",
            "981/981 [==============================] - 106s 108ms/step - loss: 0.2986 - accuracy: 0.9371 - val_loss: 0.1026 - val_accuracy: 0.9794\n",
            "Epoch 83/100\n",
            "981/981 [==============================] - 111s 113ms/step - loss: 0.3387 - accuracy: 0.9333 - val_loss: 0.0422 - val_accuracy: 0.9893\n",
            "Epoch 84/100\n",
            "981/981 [==============================] - 106s 108ms/step - loss: 0.2924 - accuracy: 0.9404 - val_loss: 0.0374 - val_accuracy: 0.9910\n",
            "Epoch 85/100\n",
            "981/981 [==============================] - 106s 108ms/step - loss: 0.2475 - accuracy: 0.9483 - val_loss: 0.0332 - val_accuracy: 0.9924\n",
            "Epoch 86/100\n",
            "981/981 [==============================] - 106s 108ms/step - loss: 0.2641 - accuracy: 0.9447 - val_loss: 0.0574 - val_accuracy: 0.9834\n",
            "Epoch 87/100\n",
            "981/981 [==============================] - 106s 108ms/step - loss: 0.2789 - accuracy: 0.9414 - val_loss: 0.0569 - val_accuracy: 0.9837\n",
            "Epoch 88/100\n",
            "981/981 [==============================] - 106s 108ms/step - loss: 0.2818 - accuracy: 0.9418 - val_loss: 0.0541 - val_accuracy: 0.9852\n",
            "Epoch 89/100\n",
            "981/981 [==============================] - 106s 108ms/step - loss: 0.3614 - accuracy: 0.9241 - val_loss: 0.0558 - val_accuracy: 0.9888\n",
            "Epoch 90/100\n",
            "981/981 [==============================] - 106s 108ms/step - loss: 0.2903 - accuracy: 0.9444 - val_loss: 0.0417 - val_accuracy: 0.9904\n",
            "Epoch 91/100\n",
            "981/981 [==============================] - 111s 114ms/step - loss: 0.2344 - accuracy: 0.9499 - val_loss: 0.1236 - val_accuracy: 0.9712\n",
            "Epoch 92/100\n",
            "981/981 [==============================] - 107s 109ms/step - loss: 0.3106 - accuracy: 0.9376 - val_loss: 0.0502 - val_accuracy: 0.9887\n",
            "Epoch 93/100\n",
            "981/981 [==============================] - 107s 109ms/step - loss: 0.2952 - accuracy: 0.9385 - val_loss: 0.1174 - val_accuracy: 0.9692\n",
            "Epoch 94/100\n",
            "981/981 [==============================] - 107s 109ms/step - loss: 0.3232 - accuracy: 0.9357 - val_loss: 0.0802 - val_accuracy: 0.9780\n",
            "Epoch 95/100\n",
            "981/981 [==============================] - 107s 109ms/step - loss: 0.3413 - accuracy: 0.9327 - val_loss: 0.1268 - val_accuracy: 0.9659\n",
            "Epoch 96/100\n",
            "981/981 [==============================] - 107s 109ms/step - loss: 0.3341 - accuracy: 0.9321 - val_loss: 0.0660 - val_accuracy: 0.9847\n",
            "Epoch 97/100\n",
            "981/981 [==============================] - 107s 109ms/step - loss: 0.3276 - accuracy: 0.9338 - val_loss: 0.0609 - val_accuracy: 0.9869\n",
            "Epoch 98/100\n",
            "981/981 [==============================] - 112s 114ms/step - loss: 0.2822 - accuracy: 0.9430 - val_loss: 0.0790 - val_accuracy: 0.9792\n",
            "Epoch 99/100\n",
            "981/981 [==============================] - 107s 109ms/step - loss: 0.3812 - accuracy: 0.9242 - val_loss: 0.0480 - val_accuracy: 0.9888\n",
            "Epoch 100/100\n",
            "981/981 [==============================] - 107s 109ms/step - loss: 0.3885 - accuracy: 0.9285 - val_loss: 0.0429 - val_accuracy: 0.9888\n"
          ]
        }
      ],
      "source": [
        "history = model.train(X_train, y_train, X_valid, y_valid)"
      ]
    },
    {
      "cell_type": "markdown",
      "metadata": {
        "id": "wZfIdMF3cRBw"
      },
      "source": [
        "# **EVALUATION**"
      ]
    },
    {
      "cell_type": "code",
      "execution_count": null,
      "metadata": {
        "colab": {
          "base_uri": "https://localhost:8080/"
        },
        "id": "qTjhaExTY6Nd",
        "outputId": "03239786-c9e6-40e5-e9d1-0860c59786c8"
      },
      "outputs": [
        {
          "name": "stdout",
          "output_type": "stream",
          "text": [
            "246/246 [==============================] - 7s 29ms/step - loss: 0.0429 - accuracy: 0.9888\n",
            "Total loss:  0.04286579415202141\n",
            "Model accuracy:  0.9887869358062744\n"
          ]
        }
      ],
      "source": [
        "model.evaluate(X_valid, y_valid)"
      ]
    },
    {
      "cell_type": "code",
      "execution_count": null,
      "metadata": {
        "id": "lm7xboIFbCmK"
      },
      "outputs": [],
      "source": [
        "his = model.history.history"
      ]
    },
    {
      "cell_type": "code",
      "execution_count": null,
      "metadata": {
        "id": "0kCZglibboTA"
      },
      "outputs": [],
      "source": [
        "train_loss, val_loss = his['loss'], his['val_loss']\n",
        "train_acc, val_acc = his['accuracy'], his['val_accuracy']"
      ]
    },
    {
      "cell_type": "code",
      "execution_count": null,
      "metadata": {
        "colab": {
          "base_uri": "https://localhost:8080/",
          "height": 342
        },
        "id": "fnpY2EW6bYLv",
        "outputId": "0f310b65-348b-4137-ba35-58a294ecfbab"
      },
      "outputs": [
        {
          "data": {
            "image/png": "[encoded data removed]",
            "text/plain": [
              "<Figure size 1500x500 with 2 Axes>"
            ]
          },
          "metadata": {},
          "output_type": "display_data"
        }
      ],
      "source": [
        "fig, (ax1, ax2) = plt.subplots(1,2, figsize=(15,5))\n",
        "epoch_runs = [i+1 for i in range(100)]\n",
        "ax1.plot(epoch_runs, train_loss, label=\"Training Loss\")\n",
        "ax1.plot(epoch_runs, val_loss, label=\"Val Loss\")\n",
        "ax1.set(title='Training and Validation Loss', xlabel='Epochs', ylabel='Loss')\n",
        "ax1.legend()\n",
        "\n",
        "ax2.plot(epoch_runs, train_acc, label=\"Training Acc\")\n",
        "ax2.plot(epoch_runs, val_acc, label=\"Val Acc\")\n",
        "ax2.set(title='Training and Validation Accuracy', xlabel='Epochs', ylabel='Acc', ylim=[0.6, 1])\n",
        "plt.show()"
      ]
    },
    {
      "cell_type": "code",
      "execution_count": null,
      "metadata": {
        "id": "i1fhjJo9ZEHA"
      },
      "outputs": [],
      "source": [
        "model.save()"
      ]
    },
    {
      "cell_type": "markdown",
      "metadata": {
        "id": "wfdvq78_c6ve"
      },
      "source": [
        "# **TESTING**"
      ]
    },
    {
      "cell_type": "code",
      "execution_count": null,
      "metadata": {
        "id": "KiewXrAn_ldN"
      },
      "outputs": [],
      "source": [
        "model = tf.keras.models.load_model('model.h5')"
      ]
    },
    {
      "cell_type": "code",
      "execution_count": null,
      "metadata": {
        "id": "-1KL8Ey2Z0dn"
      },
      "outputs": [],
      "source": [
        "y_test = pd.read_csv('/content/drive/MyDrive/TrafficSign/Test.csv')"
      ]
    },
    {
      "cell_type": "code",
      "execution_count": null,
      "metadata": {
        "colab": {
          "base_uri": "https://localhost:8080/",
          "height": 423
        },
        "id": "4cFjvu7jfDHo",
        "outputId": "743d4103-0549-4fd2-a08c-3fb5c1784681"
      },
      "outputs": [
        {
          "data": {
            "text/html": [
              "\n",
              "  <div id=\"df-bf651bfa-b897-4cca-80da-58fb422f1f56\">\n",
              "    <div class=\"colab-df-container\">\n",
              "      <div>\n",
              "<style scoped>\n",
              "    .dataframe tbody tr th:only-of-type {\n",
              "        vertical-align: middle;\n",
              "    }\n",
              "\n",
              "    .dataframe tbody tr th {\n",
              "        vertical-align: top;\n",
              "    }\n",
              "\n",
              "    .dataframe thead th {\n",
              "        text-align: right;\n",
              "    }\n",
              "</style>\n",
              "<table border=\"1\" class=\"dataframe\">\n",
              "  <thead>\n",
              "    <tr style=\"text-align: right;\">\n",
              "      <th></th>\n",
              "      <th>Width</th>\n",
              "      <th>Height</th>\n",
              "      <th>Roi.X1</th>\n",
              "      <th>Roi.Y1</th>\n",
              "      <th>Roi.X2</th>\n",
              "      <th>Roi.Y2</th>\n",
              "      <th>ClassId</th>\n",
              "      <th>Path</th>\n",
              "    </tr>\n",
              "  </thead>\n",
              "  <tbody>\n",
              "    <tr>\n",
              "      <th>0</th>\n",
              "      <td>53</td>\n",
              "      <td>54</td>\n",
              "      <td>6</td>\n",
              "      <td>5</td>\n",
              "      <td>48</td>\n",
              "      <td>49</td>\n",
              "      <td>16</td>\n",
              "      <td>Test/00000.png</td>\n",
              "    </tr>\n",
              "    <tr>\n",
              "      <th>1</th>\n",
              "      <td>42</td>\n",
              "      <td>45</td>\n",
              "      <td>5</td>\n",
              "      <td>5</td>\n",
              "      <td>36</td>\n",
              "      <td>40</td>\n",
              "      <td>1</td>\n",
              "      <td>Test/00001.png</td>\n",
              "    </tr>\n",
              "    <tr>\n",
              "      <th>2</th>\n",
              "      <td>48</td>\n",
              "      <td>52</td>\n",
              "      <td>6</td>\n",
              "      <td>6</td>\n",
              "      <td>43</td>\n",
              "      <td>47</td>\n",
              "      <td>38</td>\n",
              "      <td>Test/00002.png</td>\n",
              "    </tr>\n",
              "    <tr>\n",
              "      <th>3</th>\n",
              "      <td>27</td>\n",
              "      <td>29</td>\n",
              "      <td>5</td>\n",
              "      <td>5</td>\n",
              "      <td>22</td>\n",
              "      <td>24</td>\n",
              "      <td>33</td>\n",
              "      <td>Test/00003.png</td>\n",
              "    </tr>\n",
              "    <tr>\n",
              "      <th>4</th>\n",
              "      <td>60</td>\n",
              "      <td>57</td>\n",
              "      <td>5</td>\n",
              "      <td>5</td>\n",
              "      <td>55</td>\n",
              "      <td>52</td>\n",
              "      <td>11</td>\n",
              "      <td>Test/00004.png</td>\n",
              "    </tr>\n",
              "    <tr>\n",
              "      <th>...</th>\n",
              "      <td>...</td>\n",
              "      <td>...</td>\n",
              "      <td>...</td>\n",
              "      <td>...</td>\n",
              "      <td>...</td>\n",
              "      <td>...</td>\n",
              "      <td>...</td>\n",
              "      <td>...</td>\n",
              "    </tr>\n",
              "    <tr>\n",
              "      <th>12625</th>\n",
              "      <td>42</td>\n",
              "      <td>41</td>\n",
              "      <td>5</td>\n",
              "      <td>6</td>\n",
              "      <td>37</td>\n",
              "      <td>36</td>\n",
              "      <td>12</td>\n",
              "      <td>Test/12625.png</td>\n",
              "    </tr>\n",
              "    <tr>\n",
              "      <th>12626</th>\n",
              "      <td>50</td>\n",
              "      <td>51</td>\n",
              "      <td>6</td>\n",
              "      <td>5</td>\n",
              "      <td>45</td>\n",
              "      <td>46</td>\n",
              "      <td>33</td>\n",
              "      <td>Test/12626.png</td>\n",
              "    </tr>\n",
              "    <tr>\n",
              "      <th>12627</th>\n",
              "      <td>29</td>\n",
              "      <td>29</td>\n",
              "      <td>6</td>\n",
              "      <td>6</td>\n",
              "      <td>24</td>\n",
              "      <td>24</td>\n",
              "      <td>6</td>\n",
              "      <td>Test/12627.png</td>\n",
              "    </tr>\n",
              "    <tr>\n",
              "      <th>12628</th>\n",
              "      <td>48</td>\n",
              "      <td>49</td>\n",
              "      <td>5</td>\n",
              "      <td>6</td>\n",
              "      <td>43</td>\n",
              "      <td>44</td>\n",
              "      <td>7</td>\n",
              "      <td>Test/12628.png</td>\n",
              "    </tr>\n",
              "    <tr>\n",
              "      <th>12629</th>\n",
              "      <td>32</td>\n",
              "      <td>31</td>\n",
              "      <td>6</td>\n",
              "      <td>5</td>\n",
              "      <td>27</td>\n",
              "      <td>26</td>\n",
              "      <td>10</td>\n",
              "      <td>Test/12629.png</td>\n",
              "    </tr>\n",
              "  </tbody>\n",
              "</table>\n",
              "<p>12630 rows × 8 columns</p>\n",
              "</div>\n",
              "      <button class=\"colab-df-convert\" onclick=\"convertToInteractive('df-bf651bfa-b897-4cca-80da-58fb422f1f56')\"\n",
              "              title=\"Convert this dataframe to an interactive table.\"\n",
              "              style=\"display:none;\">\n",
              "        \n",
              "  <svg xmlns=\"http://www.w3.org/2000/svg\" height=\"24px\"viewBox=\"0 0 24 24\"\n",
              "       width=\"24px\">\n",
              "    <path d=\"M0 0h24v24H0V0z\" fill=\"none\"/>\n",
              "    <path d=\"M18.56 5.44l.94 2.06.94-2.06 2.06-.94-2.06-.94-.94-2.06-.94 2.06-2.06.94zm-11 1L8.5 8.5l.94-2.06 2.06-.94-2.06-.94L8.5 2.5l-.94 2.06-2.06.94zm10 10l.94 2.06.94-2.06 2.06-.94-2.06-.94-.94-2.06-.94 2.06-2.06.94z\"/><path d=\"M17.41 7.96l-1.37-1.37c-.4-.4-.92-.59-1.43-.59-.52 0-1.04.2-1.43.59L10.3 9.45l-7.72 7.72c-.78.78-.78 2.05 0 2.83L4 21.41c.39.39.9.59 1.41.59.51 0 1.02-.2 1.41-.59l7.78-7.78 2.81-2.81c.8-.78.8-2.07 0-2.86zM5.41 20L4 18.59l7.72-7.72 1.47 1.35L5.41 20z\"/>\n",
              "  </svg>\n",
              "      </button>\n",
              "      \n",
              "  <style>\n",
              "    .colab-df-container {\n",
              "      display:flex;\n",
              "      flex-wrap:wrap;\n",
              "      gap: 12px;\n",
              "    }\n",
              "\n",
              "    .colab-df-convert {\n",
              "      background-color: #E8F0FE;\n",
              "      border: none;\n",
              "      border-radius: 50%;\n",
              "      cursor: pointer;\n",
              "      display: none;\n",
              "      fill: #1967D2;\n",
              "      height: 32px;\n",
              "      padding: 0 0 0 0;\n",
              "      width: 32px;\n",
              "    }\n",
              "\n",
              "    .colab-df-convert:hover {\n",
              "      background-color: #E2EBFA;\n",
              "      box-shadow: 0px 1px 2px rgba(60, 64, 67, 0.3), 0px 1px 3px 1px rgba(60, 64, 67, 0.15);\n",
              "      fill: #174EA6;\n",
              "    }\n",
              "\n",
              "    [theme=dark] .colab-df-convert {\n",
              "      background-color: #3B4455;\n",
              "      fill: #D2E3FC;\n",
              "    }\n",
              "\n",
              "    [theme=dark] .colab-df-convert:hover {\n",
              "      background-color: #434B5C;\n",
              "      box-shadow: 0px 1px 3px 1px rgba(0, 0, 0, 0.15);\n",
              "      filter: drop-shadow(0px 1px 2px rgba(0, 0, 0, 0.3));\n",
              "      fill: #FFFFFF;\n",
              "    }\n",
              "  </style>\n",
              "\n",
              "      <script>\n",
              "        const buttonEl =\n",
              "          document.querySelector('#df-bf651bfa-b897-4cca-80da-58fb422f1f56 button.colab-df-convert');\n",
              "        buttonEl.style.display =\n",
              "          google.colab.kernel.accessAllowed ? 'block' : 'none';\n",
              "\n",
              "        async function convertToInteractive(key) {\n",
              "          const element = document.querySelector('#df-bf651bfa-b897-4cca-80da-58fb422f1f56');\n",
              "          const dataTable =\n",
              "            await google.colab.kernel.invokeFunction('convertToInteractive',\n",
              "                                                     [key], {});\n",
              "          if (!dataTable) return;\n",
              "\n",
              "          const docLinkHtml = 'Like what you see? Visit the ' +\n",
              "            '<a target=\"_blank\" href=https://colab.research.google.com/notebooks/data_table.ipynb>data table notebook</a>'\n",
              "            + ' to learn more about interactive tables.';\n",
              "          element.innerHTML = '';\n",
              "          dataTable['output_type'] = 'display_data';\n",
              "          await google.colab.output.renderOutput(dataTable, element);\n",
              "          const docLink = document.createElement('div');\n",
              "          docLink.innerHTML = docLinkHtml;\n",
              "          element.appendChild(docLink);\n",
              "        }\n",
              "      </script>\n",
              "    </div>\n",
              "  </div>\n",
              "  "
            ],
            "text/plain": [
              "       Width  Height  Roi.X1  Roi.Y1  Roi.X2  Roi.Y2  ClassId            Path\n",
              "0         53      54       6       5      48      49       16  Test/00000.png\n",
              "1         42      45       5       5      36      40        1  Test/00001.png\n",
              "2         48      52       6       6      43      47       38  Test/00002.png\n",
              "3         27      29       5       5      22      24       33  Test/00003.png\n",
              "4         60      57       5       5      55      52       11  Test/00004.png\n",
              "...      ...     ...     ...     ...     ...     ...      ...             ...\n",
              "12625     42      41       5       6      37      36       12  Test/12625.png\n",
              "12626     50      51       6       5      45      46       33  Test/12626.png\n",
              "12627     29      29       6       6      24      24        6  Test/12627.png\n",
              "12628     48      49       5       6      43      44        7  Test/12628.png\n",
              "12629     32      31       6       5      27      26       10  Test/12629.png\n",
              "\n",
              "[12630 rows x 8 columns]"
            ]
          },
          "execution_count": 51,
          "metadata": {},
          "output_type": "execute_result"
        }
      ],
      "source": [
        "y_test"
      ]
    },
    {
      "cell_type": "code",
      "execution_count": null,
      "metadata": {
        "id": "3ENYLsZHeWUP"
      },
      "outputs": [],
      "source": [
        "images = y_test['Path']\n",
        "labels = y_test['ClassId']"
      ]
    },
    {
      "cell_type": "code",
      "execution_count": null,
      "metadata": {
        "colab": {
          "base_uri": "https://localhost:8080/"
        },
        "id": "ErwBXG61emOC",
        "outputId": "461453dd-6b69-4122-cdad-7dd1488f5449"
      },
      "outputs": [
        {
          "name": "stderr",
          "output_type": "stream",
          "text": [
            "100%|██████████| 12630/12630 [04:26<00:00, 47.42it/s] \n"
          ]
        }
      ],
      "source": [
        "data = []\n",
        "\n",
        "for img in tqdm(images):\n",
        "    image = Image.open('/content/drive/MyDrive/TrafficSign/'+img)\n",
        "    image = image.resize([30, 30])\n",
        "    data.append(np.array(image))\n",
        "  \n",
        "X_test=np.array(data)"
      ]
    },
    {
      "cell_type": "code",
      "execution_count": null,
      "metadata": {
        "colab": {
          "base_uri": "https://localhost:8080/"
        },
        "id": "pa-nayzEhNCl",
        "outputId": "21d8a190-25f6-43dc-b2d5-3b0c7f7c5111"
      },
      "outputs": [
        {
          "data": {
            "text/plain": [
              "(12630, 30, 30, 3)"
            ]
          },
          "execution_count": 54,
          "metadata": {},
          "output_type": "execute_result"
        }
      ],
      "source": [
        "X_test.shape"
      ]
    },
    {
      "cell_type": "code",
      "execution_count": null,
      "metadata": {
        "colab": {
          "base_uri": "https://localhost:8080/"
        },
        "id": "_85V41rve6gk",
        "outputId": "93e09924-449a-4267-a8f1-3ae4e1d5b947"
      },
      "outputs": [
        {
          "name": "stdout",
          "output_type": "stream",
          "text": [
            "395/395 [==============================] - 10s 26ms/step\n",
            "              precision    recall  f1-score   support\n",
            "\n",
            "           0       1.00      1.00      1.00        60\n",
            "           1       0.97      0.98      0.97       720\n",
            "           2       0.97      0.98      0.97       750\n",
            "           3       0.97      0.92      0.95       450\n",
            "           4       0.99      0.96      0.97       660\n",
            "           5       0.83      0.96      0.89       630\n",
            "           6       0.98      0.83      0.90       150\n",
            "           7       0.98      0.95      0.97       450\n",
            "           8       0.94      0.96      0.95       450\n",
            "           9       0.98      1.00      0.99       480\n",
            "          10       1.00      0.96      0.98       660\n",
            "          11       0.95      0.93      0.94       420\n",
            "          12       0.98      0.98      0.98       690\n",
            "          13       0.99      0.99      0.99       720\n",
            "          14       1.00      0.99      0.99       270\n",
            "          15       0.97      0.99      0.98       210\n",
            "          16       0.99      0.98      0.98       150\n",
            "          17       1.00      0.94      0.97       360\n",
            "          18       0.99      0.84      0.91       390\n",
            "          19       0.93      0.93      0.93        60\n",
            "          20       0.86      0.98      0.92        90\n",
            "          21       0.79      0.71      0.75        90\n",
            "          22       0.98      0.85      0.91       120\n",
            "          23       0.91      0.96      0.94       150\n",
            "          24       0.87      0.88      0.87        90\n",
            "          25       0.98      0.95      0.96       480\n",
            "          26       0.79      0.84      0.82       180\n",
            "          27       1.00      0.50      0.67        60\n",
            "          28       0.99      0.96      0.98       150\n",
            "          29       0.85      0.98      0.91        90\n",
            "          30       0.74      0.79      0.77       150\n",
            "          31       0.89      0.99      0.94       270\n",
            "          32       0.86      1.00      0.92        60\n",
            "          33       0.93      1.00      0.96       210\n",
            "          34       0.96      0.99      0.98       120\n",
            "          35       0.98      0.98      0.98       390\n",
            "          36       1.00      0.94      0.97       120\n",
            "          37       0.91      0.98      0.94        60\n",
            "          38       0.97      0.99      0.98       690\n",
            "          39       0.99      0.94      0.97        90\n",
            "          40       0.78      0.84      0.81        90\n",
            "          41       0.92      0.80      0.86        60\n",
            "          42       0.95      0.92      0.94        90\n",
            "\n",
            "    accuracy                           0.95     12630\n",
            "   macro avg       0.94      0.93      0.93     12630\n",
            "weighted avg       0.96      0.95      0.95     12630\n",
            "\n"
          ]
        }
      ],
      "source": [
        "pred = np.argmax(model.predict(X_test), axis=-1)\n",
        "\n",
        "print(classification_report(labels, pred))"
      ]
    }
  ],
  "metadata": {
    "colab": {
      "provenance": []
    },
    "kernelspec": {
      "display_name": "Python 3",
      "name": "python3"
    },
    "language_info": {
      "name": "python"
    }
  },
  "nbformat": 4,
  "nbformat_minor": 0
}
